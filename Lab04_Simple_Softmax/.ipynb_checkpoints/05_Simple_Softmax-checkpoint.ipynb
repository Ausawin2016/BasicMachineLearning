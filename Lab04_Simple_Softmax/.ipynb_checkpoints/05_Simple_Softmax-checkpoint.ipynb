{
 "cells": [
  {
   "cell_type": "code",
   "execution_count": null,
   "metadata": {
    "collapsed": false
   },
   "outputs": [],
   "source": [
    "from __future__ import absolute_import\n",
    "from __future__ import division\n",
    "from __future__ import print_function\n",
    "import matplotlib.pyplot as plt\n",
    "import matplotlib.cm as cm\n",
    "import matplotlib\n",
    "\n",
    "%matplotlib inline\n",
    "\n",
    "import tensorflow as tf\n",
    "import numpy as np\n",
    "from tensorflow.examples.tutorials.mnist import input_data\n",
    "mnist = input_data.read_data_sets(\"data/\", one_hot = True)"
   ]
  },
  {
   "cell_type": "code",
   "execution_count": null,
   "metadata": {
    "collapsed": false
   },
   "outputs": [],
   "source": [
    "index = 10\n",
    "tmp = mnist.train.images[index]\n",
    "tmp = tmp.reshape((28,28))\n",
    "\n",
    "plt.imshow(tmp, cmap = cm.Greys)\n",
    "plt.show()\n",
    "print(\"One-hot Label for this images = \", end=\" \")\n",
    "onehot_label = mnist.train.labels[index]\n",
    "print(onehot_label)\n",
    "print(\"Index = %d\" % np.argmax(onehot_label))"
   ]
  },
  {
   "cell_type": "markdown",
   "metadata": {},
   "source": [
    "<img src=\"images/softmax_regression_en.png\" width=\"450px\"/>"
   ]
  },
  {
   "cell_type": "code",
   "execution_count": null,
   "metadata": {
    "collapsed": false
   },
   "outputs": [],
   "source": [
    "X = tf.placeholder(tf.float32, [None,784])\n",
    "\n",
    "W = tf.Variable(tf.zeros([784,10]))\n",
    "b = tf.Variable(tf.zeros([10]))"
   ]
  },
  {
   "cell_type": "code",
   "execution_count": null,
   "metadata": {
    "collapsed": false
   },
   "outputs": [],
   "source": [
    "#model\n",
    "net = tf.matmul(X, W) + b #logits\n",
    "Y = tf.nn.softmax(net)"
   ]
  },
  {
   "cell_type": "code",
   "execution_count": null,
   "metadata": {
    "collapsed": true
   },
   "outputs": [],
   "source": [
    "# Define loss and optimizer\n",
    "Y_ = tf.placeholder(tf.float32, [None, 10])\n",
    "#loss function\n",
    "cross_entropy = tf.reduce_mean(tf.nn.softmax_cross_entropy_with_logits(labels=Y_, logits=net))\n",
    "\n",
    "#Optimizer\n",
    "optimizer = tf.train.GradientDescentOptimizer(0.05)\n",
    "train_step = optimizer.minimize(cross_entropy)\n",
    "#or train_step = tf.train.GradientDescentOptimizer(0.5).minimize(cross_entropy)\n",
    "\n",
    "# % of correct answers found in batch\n",
    "is_correct = tf.equal(tf.argmax(Y,1), tf.argmax(Y_,1))\n",
    "accuracy = tf.reduce_mean(tf.cast(is_correct, tf.float32))"
   ]
  },
  {
   "cell_type": "markdown",
   "metadata": {},
   "source": [
    "<img src=\"images/optimizer1.gif\" width=\"400px\">\n",
    "<hr/>\n",
    "<img src=\"images/optimizer2.gif\" width=\"400px\">"
   ]
  },
  {
   "cell_type": "code",
   "execution_count": null,
   "metadata": {
    "collapsed": false
   },
   "outputs": [],
   "source": [
    "sess = tf.InteractiveSession()\n",
    "tf.global_variables_initializer().run()\n",
    "\n",
    "for i in range(10000):\n",
    "    #load batch of images and correct answers\n",
    "    batch_X, batch_Y = mnist.train.next_batch(100)\n",
    "    train_data={X: batch_X, Y_: batch_Y}\n",
    "    #train\n",
    "    sess.run(train_step, feed_dict=train_data)\n",
    "    if i % 100 == 0:\n",
    "        #success ?\n",
    "        a,c = sess.run([accuracy,cross_entropy],feed_dict=train_data)\n",
    "        print(\"Step : %d acc = %.4f loss = %.4f\" % (i,a,c))\n",
    "    #--- edit\n",
    "#success on test data?\n",
    "test_data = {X: mnist.test.images, Y_: mnist.test.labels}\n",
    "a,c = sess.run([accuracy, cross_entropy], feed_dict=test_data)\n",
    "print(\"Test data acc = %.4f loss = %.4f\" % (a,c))"
   ]
  },
  {
   "cell_type": "code",
   "execution_count": null,
   "metadata": {
    "collapsed": false
   },
   "outputs": [],
   "source": [
    "print(\"Test image size\")\n",
    "print(mnist.test.images.shape)\n",
    "\n",
    "im_test = mnist.test.images[0].reshape([28,28])\n",
    "plt.imshow(im_test, cmap= cm.Greys)\n",
    "plt.show()\n",
    "#feed test again. By interactive sess we can use eval without sess !! easy!?\n",
    "res = net.eval(feed_dict = {X:[mnist.test.images[0]]})\n",
    "print(\"Result size : \")\n",
    "print(res.shape)\n",
    "print(\"Picking up first response \")\n",
    "print(res[0])\n",
    "print(\"Softmax percentage : \")\n",
    "print(tf.nn.softmax(res[0]).eval())\n",
    "print(\"Result are : %d\" % np.argmax(res[0]))"
   ]
  },
  {
   "cell_type": "code",
   "execution_count": null,
   "metadata": {
    "collapsed": false
   },
   "outputs": [],
   "source": [
    "wts = W.eval()\n",
    "wts.shape\n",
    "for i in range(0,10):\n",
    "    im = wts.flatten()[i::10].reshape((28,-1))\n",
    "    plt.imshow(im, cmap = cm.Greys)\n",
    "    plt.show()"
   ]
  },
  {
   "cell_type": "code",
   "execution_count": null,
   "metadata": {
    "collapsed": true
   },
   "outputs": [],
   "source": []
  }
 ],
 "metadata": {
  "kernelspec": {
   "display_name": "Tensorflow 3",
   "language": "python",
   "name": "tensorflow"
  },
  "language_info": {
   "codemirror_mode": {
    "name": "ipython",
    "version": 3
   },
   "file_extension": ".py",
   "mimetype": "text/x-python",
   "name": "python",
   "nbconvert_exporter": "python",
   "pygments_lexer": "ipython3",
   "version": "3.5.3"
  }
 },
 "nbformat": 4,
 "nbformat_minor": 2
}
