{
 "cells": [
  {
   "cell_type": "code",
   "execution_count": null,
   "metadata": {
    "collapsed": false
   },
   "outputs": [],
   "source": [
    "from __future__ import absolute_import\n",
    "from __future__ import division\n",
    "from __future__ import print_function\n",
    "import matplotlib.pyplot as plt\n",
    "import matplotlib.cm as cm\n",
    "import matplotlib\n",
    "\n",
    "%matplotlib inline\n",
    "\n",
    "import tensorflow as tf\n",
    "import numpy as np\n",
    "from tensorflow.examples.tutorials.mnist import input_data\n",
    "mnist = input_data.read_data_sets(\"../data\", one_hot = True)"
   ]
  },
  {
   "cell_type": "code",
   "execution_count": null,
   "metadata": {
    "collapsed": false
   },
   "outputs": [],
   "source": [
    "hidden1 = 200\n",
    "hidden2 = 100\n",
    "hidden3 = 60\n",
    "\n",
    "X = tf.placeholder(tf.float32, [None,784])\n",
    "#hidden\n",
    "W1 = tf.Variable(tf.truncated_normal([784,hidden1],stddev=0.1))\n",
    "b1 = tf.Variable(tf.zeros([hidden1]))\n",
    "\n",
    "W2 = tf.Variable(tf.truncated_normal([hidden1,hidden2],stddev=0.1))\n",
    "b2 = tf.Variable(tf.zeros([hidden2]))\n",
    "\n",
    "W3 = tf.Variable(tf.truncated_normal([hidden2,hidden3],stddev=0.1))\n",
    "b3 = tf.Variable(tf.zeros([hidden3]))\n",
    "#out layer\n",
    "W4 = tf.Variable(tf.truncated_normal([hidden3,10],stddev=0.1))\n",
    "b4 = tf.Variable(tf.zeros([10]))"
   ]
  },
  {
   "cell_type": "code",
   "execution_count": null,
   "metadata": {
    "collapsed": true
   },
   "outputs": [],
   "source": [
    "#model\n",
    "fc1 = tf.nn.sigmoid(tf.matmul(X,   W1) + b1)\n",
    "fc2 = tf.nn.sigmoid(tf.matmul(fc1, W2) + b2)\n",
    "fc3 = tf.nn.sigmoid(tf.matmul(fc2, W3) + b3)\n",
    "Ylogits = tf.matmul(fc3, W4) + b4\n",
    "Y = tf.nn.softmax(Ylogits)\n",
    "Y_ = tf.placeholder(tf.float32, [None, 10])\n",
    "\n",
    "#loss function\n",
    "cross_entropy = tf.reduce_mean(tf.nn.softmax_cross_entropy_with_logits(labels=Y_, logits=Ylogits))\n",
    "\n",
    "# % of correct answers found in batch\n",
    "is_correct = tf.equal(tf.argmax(Y,1), tf.argmax(Y_,1))\n",
    "accuracy = tf.reduce_mean(tf.cast(is_correct, tf.float32))\n",
    "\n",
    "# Create a summary to monitor cost tensor\n",
    "tf.summary.scalar('loss', cross_entropy)\n",
    "# Create a summary to monitor accuracy tensor\n",
    "tf.summary.scalar('accuracy', accuracy)\n",
    "#for weight\n",
    "with tf.name_scope('Weights'):\n",
    "    tf.summary.histogram(\"weight1\", W1)\n",
    "    tf.summary.histogram(\"weight2\", W2)\n",
    "    tf.summary.histogram(\"bias_1\", b1)\n",
    "    tf.summary.histogram(\"bias_2\", b2)\n",
    "\n",
    "summary_op = tf.summary.merge_all()\n",
    "\n",
    "#Trainer\n",
    "optimizer = tf.train.AdamOptimizer()\n",
    "train_step = optimizer.minimize(cross_entropy)"
   ]
  },
  {
   "cell_type": "code",
   "execution_count": null,
   "metadata": {
    "collapsed": false,
    "scrolled": false
   },
   "outputs": [],
   "source": [
    "#create session\n",
    "sess = tf.InteractiveSession()\n",
    "tf.global_variables_initializer().run()\n",
    "\n",
    "#create summary op to write logs to Tensorboard\n",
    "train_summary_writer = tf.summary.FileWriter('../logs/deep_sig_train', graph=sess.graph)\n",
    "test_summary_writer = tf.summary.FileWriter('../logs/deep_sig_test', graph=sess.graph)\n",
    "\n",
    "for i in range(10000):\n",
    "    #load batch of images and correct answers\n",
    "    batch_X, batch_Y = mnist.train.next_batch(100)\n",
    "    train_data={X: batch_X, Y_: batch_Y}\n",
    "    \n",
    "    #train    \n",
    "    _,summary = sess.run([train_step,summary_op], feed_dict=train_data)\n",
    "    # Write logs at every iteration\n",
    "    train_summary_writer.add_summary(summary,i)\n",
    "    if i % 100 == 0:        \n",
    "        #success ?\n",
    "        ta,tc = sess.run([accuracy,cross_entropy],feed_dict=train_data)\n",
    "        test_data = {X: mnist.test.images, Y_: mnist.test.labels}\n",
    "        va,vc,summary_test = sess.run([accuracy,cross_entropy,summary_op],feed_dict=test_data)\n",
    "        test_summary_writer.add_summary(summary_test,i)\n",
    "        print(\"Step : %d Batch : acc = %.4f loss = %.4f | Test acc = %.4f loss = %.4f\" % (i,ta,tc,va,vc))        \n",
    "    #--- edit\n",
    "#success on test data?\n",
    "test_data = {X: mnist.test.images, Y_: mnist.test.labels}\n",
    "a,c = sess.run([accuracy, cross_entropy], feed_dict=test_data)\n",
    "print(\"Test data acc = %.4f loss = %.4f\" % (a,c))"
   ]
  },
  {
   "cell_type": "markdown",
   "metadata": {},
   "source": [
    "<h2>Try Add more 30 hidden layer</h2>"
   ]
  },
  {
   "cell_type": "code",
   "execution_count": null,
   "metadata": {
    "collapsed": true
   },
   "outputs": [],
   "source": []
  }
 ],
 "metadata": {
  "kernelspec": {
   "display_name": "Tensorflow 3",
   "language": "python",
   "name": "tensorflow"
  },
  "language_info": {
   "codemirror_mode": {
    "name": "ipython",
    "version": 3
   },
   "file_extension": ".py",
   "mimetype": "text/x-python",
   "name": "python",
   "nbconvert_exporter": "python",
   "pygments_lexer": "ipython3",
   "version": "3.5.3"
  }
 },
 "nbformat": 4,
 "nbformat_minor": 2
}
