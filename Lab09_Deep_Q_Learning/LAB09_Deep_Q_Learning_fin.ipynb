{
 "cells": [
  {
   "cell_type": "code",
   "execution_count": null,
   "metadata": {
    "collapsed": true
   },
   "outputs": [],
   "source": [
    "#!/usr/bin/env python\n",
    "from __future__ import print_function\n",
    "\n",
    "import tensorflow as tf\n",
    "import sys\n",
    "sys.path.append(\"game/\")\n",
    "import wrapped_flappy_bird as game\n",
    "import random\n",
    "import numpy as np\n",
    "from collections import deque\n",
    "import matplotlib.pyplot as plt\n",
    "import matplotlib.cm as cm\n",
    "\n",
    "ACTIONS = 2 # number of valid actions\n",
    "GAMMA = 0.99 # decay rate of past observations\n",
    "OBSERVE = 1000000. # timesteps to observe before training\n",
    "EXPLORE = 2000000. # frames over which to anneal epsilon\n",
    "FINAL_EPSILON = 0.0001 # final value of epsilon\n",
    "INITIAL_EPSILON = 0.0001 # starting value of epsilon\n",
    "REPLAY_MEMORY = 1000 # number of previous transitions to remember\n",
    "BATCH = 128 # size of minibatch\n"
   ]
  },
  {
   "cell_type": "code",
   "execution_count": null,
   "metadata": {
    "collapsed": true
   },
   "outputs": [],
   "source": [
    "def weight_variable(shape):\n",
    "    initial = tf.truncated_normal(shape, stddev = 0.01)\n",
    "    return tf.Variable(initial)\n",
    "\n",
    "def bias_variable(shape):\n",
    "    initial = tf.constant(0.01, shape = shape)\n",
    "    return tf.Variable(initial)\n",
    "\n",
    "def conv2d(x, W, stride):\n",
    "    return tf.nn.conv2d(x, W, strides = [1, stride, stride, 1], padding = \"SAME\")\n",
    "\n",
    "def max_pool_2x2(x):\n",
    "    return tf.nn.max_pool(x, ksize = [1, 2, 2, 1], strides = [1, 2, 2, 1], padding = \"SAME\")"
   ]
  },
  {
   "cell_type": "code",
   "execution_count": null,
   "metadata": {
    "collapsed": true
   },
   "outputs": [],
   "source": [
    "#create model\n",
    "W_conv1 = weight_variable([8, 8, 4, 32])\n",
    "b_conv1 = bias_variable([32])\n",
    "\n",
    "W_conv2 = weight_variable([4, 4, 32, 64])\n",
    "b_conv2 = bias_variable([64])\n",
    "\n",
    "W_conv3 = weight_variable([3, 3, 64, 64])\n",
    "b_conv3 = bias_variable([64])\n",
    "\n",
    "W_fc1 = weight_variable([1600, 512])\n",
    "b_fc1 = bias_variable([512])\n",
    "\n",
    "W_fc2 = weight_variable([512, ACTIONS])\n",
    "b_fc2 = bias_variable([ACTIONS])\n",
    "\n",
    "\n",
    "# input layer\n",
    "s = tf.placeholder(\"float\", [None, 80, 80, 4])\n",
    "\n",
    "# hidden layers\n",
    "h_conv1 = tf.nn.relu(conv2d(s, W_conv1, 4) + b_conv1) ### ===> 80x80x4 conv 4 ==> 20x20x32\n",
    "h_pool1 = max_pool_2x2(h_conv1)                       ### ===> 20x20x32 maxpool => 10x10x64\n",
    "\n",
    "h_conv2 = tf.nn.relu(conv2d(h_pool1, W_conv2, 2) + b_conv2) ###=====10x10 conv2 ===>5x5x64\n",
    "#h_pool2 = max_pool_2x2(h_conv2)\n",
    "\n",
    "h_conv3 = tf.nn.relu(conv2d(h_conv2, W_conv3, 1) + b_conv3) ## 5x5 conv 1 padsame =>5x5x64\n",
    "#h_pool3 = max_pool_2x2(h_conv3)\n",
    "\n",
    "#h_pool3_flat = tf.reshape(h_pool3, [-1, 256]) \n",
    "h_conv3_flat = tf.reshape(h_conv3, [-1, 1600])               ##5x5x64 flaten =>1600\n",
    "\n",
    "h_fc1 = tf.nn.relu(tf.matmul(h_conv3_flat, W_fc1) + b_fc1)\n",
    "\n",
    "# readout layer\n",
    "readout = tf.matmul(h_fc1, W_fc2) + b_fc2"
   ]
  },
  {
   "cell_type": "code",
   "execution_count": null,
   "metadata": {
    "collapsed": false
   },
   "outputs": [],
   "source": [
    "# define the cost function\n",
    "a = tf.placeholder(\"float\", [None, ACTIONS])\n",
    "y = tf.placeholder(\"float\", [None])\n",
    "\n",
    "readout_action = tf.reduce_sum(tf.multiply(readout, a), reduction_indices=1)\n",
    "cost = tf.reduce_mean(tf.square(y - readout_action)) #rms root mean square for cost function\n",
    "train_step = tf.train.AdamOptimizer(1e-6).minimize(cost)\n",
    "\n",
    "# open up a game state to communicate with emulator\n",
    "game_state = game.GameState()\n",
    "\n",
    "sess = tf.InteractiveSession()\n",
    "tf.global_variables_initializer().run()\n",
    "\n",
    "# saving and loading networks\n",
    "saver = tf.train.Saver()\n",
    "checkpoint = tf.train.get_checkpoint_state(\"saved_networks\")\n",
    "if checkpoint and checkpoint.model_checkpoint_path:\n",
    "    saver.restore(sess, checkpoint.model_checkpoint_path)\n",
    "    print(\"Successfully loaded:\", checkpoint.model_checkpoint_path)\n",
    "else:\n",
    "    print(\"Could not find old network weights\")\n",
    "\n",
    "# store the previous observations in replay memory\n",
    "D = deque()"
   ]
  },
  {
   "cell_type": "code",
   "execution_count": null,
   "metadata": {
    "collapsed": false
   },
   "outputs": [],
   "source": [
    "def prepare_img(x_t):\n",
    "    x_t = tf.image.rgb_to_grayscale(x_t)\n",
    "    x_t = tf.image.resize_images(x_t,[80,80])\n",
    "    return x_t.eval()\n",
    "\n",
    "########### TEST Play ################\n",
    "# get the first state by doing nothing and preprocess the image to 80x80x4\n",
    "do_nothing = np.zeros(ACTIONS)\n",
    "do_nothing[0] = 1\n",
    "x_t, r_0, terminal = game_state.frame_step(do_nothing)\n",
    "x_t = prepare_img(x_t)\n",
    "######################################\n",
    "# show image\n",
    "imtest = np.array(x_t)\n",
    "plt.imshow(np.reshape(x_t,[80,80]).T,cmap=cm.Greys)\n",
    "plt.show()\n",
    "#####################################\n",
    "s_t = np.stack((x_t, x_t, x_t, x_t), axis=2).reshape([80,80,4])\n",
    "print(s_t.shape)\n",
    "############# TEST FEEDING ##########\n",
    "read = readout.eval(feed_dict={s : [s_t]})[0]\n",
    "print(\"Test readout : \")\n",
    "print(read)\n",
    "a_t = np.zeros([ACTIONS])\n",
    "a_t[0] = 1\n",
    "print(\"Test cost : %.4f\" % cost.eval(feed_dict={s : [s_t], a : [a_t], y: a_t}))\n",
    "#####################################\n"
   ]
  },
  {
   "cell_type": "code",
   "execution_count": null,
   "metadata": {
    "collapsed": true
   },
   "outputs": [],
   "source": [
    "def get_stage(s_t,a_t):\n",
    "    # run the selected action and observe next state and reward\n",
    "    x_t1_colored, r_t, terminal = game_state.frame_step(a_t)\n",
    "    x_t1 = prepare_img(x_t1_colored)\n",
    "    x_t1 = np.reshape(x_t1, (80, 80, 1))    \n",
    "    #s_t1 = np.append(x_t1, s_t[:,:,1:], axis = 2)\n",
    "    s_t1 = np.append(x_t1, s_t[:, :, :3], axis=2)\n",
    "    return s_t1, r_t, terminal"
   ]
  },
  {
   "cell_type": "code",
   "execution_count": null,
   "metadata": {
    "collapsed": true
   },
   "outputs": [],
   "source": [
    "def play_action(epsilon,readout_t):\n",
    "    a_t = np.zeros([ACTIONS])\n",
    "    action_index = 0\n",
    "    if random.random() <= epsilon:\n",
    "        print(\"----------Random Action----------\")\n",
    "        action_index = random.randrange(ACTIONS)\n",
    "        a_t[random.randrange(ACTIONS)] = 1\n",
    "    else:\n",
    "        action_index = np.argmax(readout_t)\n",
    "        a_t[action_index] = 1\n",
    "    #maybe skip some frame with a_t[0] = 1 # do nothing\n",
    "    return a_t,action_index"
   ]
  },
  {
   "cell_type": "code",
   "execution_count": null,
   "metadata": {
    "collapsed": false
   },
   "outputs": [],
   "source": [
    "# start training\n",
    "epsilon = INITIAL_EPSILON\n",
    "rp = 0\n",
    "while len(D) < REPLAY_MEMORY:\n",
    "    \n",
    "    # choose an action epsilon greedily\n",
    "    readout_t = readout.eval(feed_dict={s : [s_t]})[0]\n",
    "    a_t,action_index = play_action(epsilon,readout_t)\n",
    "    \n",
    "    ######### play ! ########\n",
    "    s_t1,r_t,terminal = get_stage(s_t,a_t)\n",
    "    \n",
    "    # store the transition in D\n",
    "    #D.append((s_t, a_t, r_t, s_t1, terminal))\n",
    "    \n",
    "    s_t = s_t1\n",
    "    rp += 1\n",
    "    if(rp % 100 == 0):\n",
    "        print(\"TRY PLAY and RECORD : %d max readout %.4f\" % (rp,np.max(readout_t)))"
   ]
  },
  {
   "cell_type": "code",
   "execution_count": null,
   "metadata": {
    "collapsed": true
   },
   "outputs": [],
   "source": []
  }
 ],
 "metadata": {
  "kernelspec": {
   "display_name": "Tensorflow 3",
   "language": "python",
   "name": "tensorflow"
  },
  "language_info": {
   "codemirror_mode": {
    "name": "ipython",
    "version": 3
   },
   "file_extension": ".py",
   "mimetype": "text/x-python",
   "name": "python",
   "nbconvert_exporter": "python",
   "pygments_lexer": "ipython3",
   "version": "3.5.3"
  }
 },
 "nbformat": 4,
 "nbformat_minor": 2
}
