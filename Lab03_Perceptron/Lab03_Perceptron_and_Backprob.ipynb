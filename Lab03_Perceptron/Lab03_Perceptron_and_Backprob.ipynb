{
 "cells": [
  {
   "cell_type": "markdown",
   "metadata": {},
   "source": [
    "<h1>Basic Knowledge</h1>"
   ]
  },
  {
   "cell_type": "markdown",
   "metadata": {},
   "source": [
    "1. Perceptron\n",
    "<img src='images/1.jpg'>"
   ]
  },
  {
   "cell_type": "code",
   "execution_count": null,
   "metadata": {
    "collapsed": false
   },
   "outputs": [],
   "source": [
    "from random import choice\n",
    "from numpy import array, dot, random\n",
    "import numpy as np\n",
    "import matplotlib.pyplot as plt\n",
    "import matplotlib"
   ]
  },
  {
   "cell_type": "code",
   "execution_count": null,
   "metadata": {
    "collapsed": false
   },
   "outputs": [],
   "source": [
    "activation = lambda x: 0 if x < 0 else 1\n",
    "\n",
    "training_data = np.array([\n",
    "    [0,0,1],\n",
    "    [1,0,1],\n",
    "    [0,1,1],\n",
    "    [1,1,1]\n",
    "])\n",
    "target_data = np.array([\n",
    "    0, \n",
    "    1, \n",
    "    1, \n",
    "    1 \n",
    "])\n",
    "w = random.rand(3)\n",
    "#learning rate\n",
    "eta = 0.2\n",
    "n = 100\n",
    "\n",
    "#loop training\n",
    "for i in range(n):\n",
    "    train_index = choice(range(0,4))\n",
    "    x, expected = (training_data[train_index],target_data[train_index])\n",
    "    #feed forward\n",
    "    result = dot(x, w)\n",
    "    result = activation(result)\n",
    "    #error estimation\n",
    "    error = expected - result\n",
    "    #back prob\n",
    "    w += eta * error * x\n",
    "#end loop\n",
    "\n",
    "print(w)\n",
    "\n",
    "for x in training_data:\n",
    "    result = dot(x, w)\n",
    "    print(\"{}: {} -> {}\".format(x[:2], result, activation(result)))"
   ]
  },
  {
   "cell_type": "code",
   "execution_count": null,
   "metadata": {
    "collapsed": false
   },
   "outputs": [],
   "source": [
    "import utils\n",
    "import json\n",
    "plt = utils.plot_logic(plt,training_data,target_data)\n",
    "plt = utils.plot_space(plt,w)\n",
    "plt.show()\n"
   ]
  },
  {
   "cell_type": "markdown",
   "metadata": {},
   "source": [
    "<h3>Learning Rate is jump step</h3><br>\n",
    "<img src=\"images/lr.png\"/>"
   ]
  },
  {
   "cell_type": "markdown",
   "metadata": {},
   "source": [
    "<h3>Let Try : Others function</h3>"
   ]
  },
  {
   "cell_type": "markdown",
   "metadata": {},
   "source": [
    "1. AND\n",
    "2. OR\n",
    "3. XOR\n",
    "<hr>\n",
    "<img src=\"images/logic_table.gif\" width=\"500px\">"
   ]
  },
  {
   "cell_type": "markdown",
   "metadata": {},
   "source": [
    "<a href=\"#\"><h1>Next : Softmax and realistic dataset</h1></a>"
   ]
  }
 ],
 "metadata": {
  "kernelspec": {
   "display_name": "Tensorflow 3",
   "language": "python",
   "name": "tensorflow"
  },
  "language_info": {
   "codemirror_mode": {
    "name": "ipython",
    "version": 3
   },
   "file_extension": ".py",
   "mimetype": "text/x-python",
   "name": "python",
   "nbconvert_exporter": "python",
   "pygments_lexer": "ipython3",
   "version": "3.5.3"
  }
 },
 "nbformat": 4,
 "nbformat_minor": 2
}
