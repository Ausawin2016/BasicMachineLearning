{
 "cells": [
  {
   "cell_type": "code",
   "execution_count": 1,
   "metadata": {
    "collapsed": false
   },
   "outputs": [
    {
     "name": "stdout",
     "output_type": "stream",
     "text": [
      "Extracting data\\train-images-idx3-ubyte.gz\n",
      "Extracting data\\train-labels-idx1-ubyte.gz\n",
      "Extracting data\\t10k-images-idx3-ubyte.gz\n",
      "Extracting data\\t10k-labels-idx1-ubyte.gz\n"
     ]
    }
   ],
   "source": [
    "from __future__ import absolute_import\n",
    "from __future__ import division\n",
    "from __future__ import print_function\n",
    "import matplotlib.pyplot as plt\n",
    "import matplotlib.cm as cm\n",
    "import matplotlib\n",
    "\n",
    "%matplotlib inline\n",
    "\n",
    "import tensorflow as tf\n",
    "import numpy as np\n",
    "from tensorflow.examples.tutorials.mnist import input_data\n",
    "# Download images and labels into mnist.test (10K images+labels) and mnist.train (60K images+labels)\n",
    "mnist = input_data.read_data_sets(\"data\", one_hot=True, reshape=False, validation_size=0)"
   ]
  },
  {
   "cell_type": "code",
   "execution_count": 2,
   "metadata": {
    "collapsed": true
   },
   "outputs": [],
   "source": [
    "X = tf.placeholder(tf.float32,[None, 28,28, 1])\n",
    "Y_ = tf.placeholder(tf.float32, [None, 10])\n",
    "\n",
    "conv1_weights = tf.Variable(tf.truncated_normal([5, 5, 1, 32],  # 5x5 filter, depth 32.\n",
    "                            stddev=0.1))\n",
    "conv1_biases = tf.Variable(tf.zeros([32]))\n",
    "\n",
    "conv2_weights = tf.Variable(tf.truncated_normal([5, 5, 32, 64], #5x5 filter, depth 32. \n",
    "                                stddev=0.1))\n",
    "conv2_biases = tf.Variable(tf.constant(0.1, shape=[64]))\n",
    "\n",
    "fc1_weights = tf.Variable(  # fully connected, depth 512.\n",
    "                            tf.truncated_normal([7 * 7 * 64, 512],stddev=0.1))\n",
    "fc1_biases = tf.Variable(tf.constant(0.1, shape=[512]))\n",
    "\n",
    "\n",
    "fc2_weights = tf.Variable(tf.truncated_normal([512, 10],\n",
    "                                            stddev=0.1))\n",
    "fc2_biases = tf.Variable(tf.constant(0.1, shape=[10]))"
   ]
  },
  {
   "cell_type": "code",
   "execution_count": 3,
   "metadata": {
    "collapsed": false
   },
   "outputs": [],
   "source": [
    "conv = tf.nn.conv2d(X, \n",
    "                    conv1_weights,strides=[1, 1, 1, 1],\n",
    "                    padding='SAME')\n",
    "\n",
    "relu = tf.nn.relu(tf.nn.bias_add(conv, conv1_biases))\n",
    "\n",
    "pool = tf.nn.max_pool(relu,\n",
    "                          ksize=[1, 2, 2, 1],\n",
    "                          strides=[1, 2, 2, 1],\n",
    "                          padding='SAME')\n",
    "\n",
    "conv = tf.nn.conv2d(pool,\n",
    "                        conv2_weights,\n",
    "                        strides=[1, 1, 1, 1],\n",
    "                        padding='SAME')\n",
    "\n",
    "relu = tf.nn.relu(tf.nn.bias_add(conv, conv2_biases))\n",
    "\n",
    "pool = tf.nn.max_pool(relu,\n",
    "                          ksize=[1, 2, 2, 1],\n",
    "                          strides=[1, 2, 2, 1],\n",
    "                          padding='SAME')\n",
    "\n",
    "reshape = tf.reshape(pool, shape=[-1,7 * 7 * 64])\n",
    "\n",
    "hidden = tf.nn.relu(tf.matmul(reshape, fc1_weights) + fc1_biases)\n",
    "\n",
    "Ylogits = tf.matmul(hidden, fc2_weights) + fc2_biases\n",
    "\n",
    "Y = tf.nn.softmax(Ylogits)"
   ]
  },
  {
   "cell_type": "code",
   "execution_count": 4,
   "metadata": {
    "collapsed": false
   },
   "outputs": [],
   "source": [
    "loss = tf.reduce_mean(\n",
    "    tf.nn.softmax_cross_entropy_with_logits(labels=Y_, logits=Ylogits))\n",
    "\n",
    "is_correct = tf.equal(tf.argmax(Y,1), tf.argmax(Y_,1))\n",
    "accuracy = tf.reduce_mean(tf.cast(is_correct, tf.float32))\n",
    "\n",
    "tf.summary.scalar('loss', loss)\n",
    "tf.summary.scalar('accuracy', accuracy)\n",
    "\n",
    "with tf.name_scope('Weights'):\n",
    "    tf.summary.histogram(\"weight1\", conv1_weights)\n",
    "    tf.summary.histogram(\"weight2\", conv2_weights)\n",
    "    \n",
    "summary_op = tf.summary.merge_all()\n",
    "\n",
    "train_step = tf.train.AdamOptimizer().minimize(loss)\n"
   ]
  },
  {
   "cell_type": "code",
   "execution_count": 7,
   "metadata": {
    "collapsed": false
   },
   "outputs": [
    {
     "name": "stdout",
     "output_type": "stream",
     "text": [
      "Step : 0 Batch : acc = 0.2400 loss = 4.1688 | Test acc = 0.1588 loss = 4.3620\n",
      "Step : 100 Batch : acc = 0.9300 loss = 0.1857 | Test acc = 0.9493 loss = 0.1781\n",
      "Step : 200 Batch : acc = 1.0000 loss = 0.0525 | Test acc = 0.9672 loss = 0.1058\n",
      "Step : 300 Batch : acc = 0.9700 loss = 0.0674 | Test acc = 0.9790 loss = 0.0632\n",
      "Step : 400 Batch : acc = 0.9600 loss = 0.1108 | Test acc = 0.9758 loss = 0.0726\n",
      "Step : 500 Batch : acc = 1.0000 loss = 0.0484 | Test acc = 0.9815 loss = 0.0590\n",
      "Step : 600 Batch : acc = 0.9900 loss = 0.0483 | Test acc = 0.9792 loss = 0.0634\n",
      "Step : 700 Batch : acc = 0.9800 loss = 0.0271 | Test acc = 0.9856 loss = 0.0442\n",
      "Step : 800 Batch : acc = 0.9900 loss = 0.0179 | Test acc = 0.9815 loss = 0.0557\n",
      "Step : 900 Batch : acc = 0.9900 loss = 0.0180 | Test acc = 0.9872 loss = 0.0377\n",
      "Step : 1000 Batch : acc = 0.9900 loss = 0.0177 | Test acc = 0.9861 loss = 0.0377\n",
      "Step : 1100 Batch : acc = 0.9800 loss = 0.0630 | Test acc = 0.9878 loss = 0.0382\n",
      "Step : 1200 Batch : acc = 0.9800 loss = 0.0862 | Test acc = 0.9895 loss = 0.0326\n",
      "Step : 1300 Batch : acc = 0.9900 loss = 0.0269 | Test acc = 0.9889 loss = 0.0315\n",
      "Step : 1400 Batch : acc = 1.0000 loss = 0.0119 | Test acc = 0.9903 loss = 0.0285\n",
      "Step : 1500 Batch : acc = 1.0000 loss = 0.0087 | Test acc = 0.9891 loss = 0.0310\n",
      "Step : 1600 Batch : acc = 0.9800 loss = 0.0426 | Test acc = 0.9889 loss = 0.0309\n",
      "Step : 1700 Batch : acc = 0.9900 loss = 0.0190 | Test acc = 0.9878 loss = 0.0357\n",
      "Step : 1800 Batch : acc = 0.9900 loss = 0.0199 | Test acc = 0.9865 loss = 0.0435\n",
      "Step : 1900 Batch : acc = 1.0000 loss = 0.0107 | Test acc = 0.9908 loss = 0.0260\n",
      "Step : 2000 Batch : acc = 1.0000 loss = 0.0039 | Test acc = 0.9891 loss = 0.0328\n",
      "Step : 2100 Batch : acc = 0.9900 loss = 0.0254 | Test acc = 0.9889 loss = 0.0319\n",
      "Step : 2200 Batch : acc = 1.0000 loss = 0.0043 | Test acc = 0.9910 loss = 0.0244\n",
      "Step : 2300 Batch : acc = 1.0000 loss = 0.0034 | Test acc = 0.9875 loss = 0.0401\n",
      "Step : 2400 Batch : acc = 1.0000 loss = 0.0067 | Test acc = 0.9915 loss = 0.0242\n",
      "Step : 2500 Batch : acc = 1.0000 loss = 0.0101 | Test acc = 0.9900 loss = 0.0300\n",
      "Step : 2600 Batch : acc = 1.0000 loss = 0.0142 | Test acc = 0.9907 loss = 0.0264\n",
      "Step : 2700 Batch : acc = 1.0000 loss = 0.0020 | Test acc = 0.9919 loss = 0.0232\n",
      "Step : 2800 Batch : acc = 1.0000 loss = 0.0038 | Test acc = 0.9920 loss = 0.0251\n",
      "Step : 2900 Batch : acc = 1.0000 loss = 0.0003 | Test acc = 0.9909 loss = 0.0278\n",
      "Step : 3000 Batch : acc = 1.0000 loss = 0.0018 | Test acc = 0.9894 loss = 0.0337\n",
      "Step : 3100 Batch : acc = 1.0000 loss = 0.0066 | Test acc = 0.9884 loss = 0.0377\n",
      "Step : 3200 Batch : acc = 1.0000 loss = 0.0021 | Test acc = 0.9898 loss = 0.0319\n",
      "Step : 3300 Batch : acc = 1.0000 loss = 0.0025 | Test acc = 0.9896 loss = 0.0335\n",
      "Step : 3400 Batch : acc = 1.0000 loss = 0.0038 | Test acc = 0.9885 loss = 0.0366\n",
      "Step : 3500 Batch : acc = 1.0000 loss = 0.0039 | Test acc = 0.9880 loss = 0.0373\n",
      "Step : 3600 Batch : acc = 1.0000 loss = 0.0006 | Test acc = 0.9903 loss = 0.0261\n",
      "Step : 3700 Batch : acc = 1.0000 loss = 0.0038 | Test acc = 0.9888 loss = 0.0386\n",
      "Step : 3800 Batch : acc = 1.0000 loss = 0.0013 | Test acc = 0.9908 loss = 0.0294\n",
      "Step : 3900 Batch : acc = 1.0000 loss = 0.0046 | Test acc = 0.9923 loss = 0.0238\n",
      "Test data acc = 0.9914 loss = 0.0276\n"
     ]
    }
   ],
   "source": [
    "#create session\n",
    "sess = tf.InteractiveSession()\n",
    "tf.global_variables_initializer().run()\n",
    "\n",
    "#create summary op to write logs to Tensorboard\n",
    "train_summary_writer = tf.summary.FileWriter('logs/cnn_relu_train', graph=sess.graph)\n",
    "test_summary_writer = tf.summary.FileWriter('logs/cnn_relu_test', graph=sess.graph)\n",
    "\n",
    "for i in range(4000):\n",
    "    #load batch of images and correct answers\n",
    "    batch_X, batch_Y = mnist.train.next_batch(100)\n",
    "    train_data={X: batch_X, Y_: batch_Y}\n",
    "    \n",
    "    #train    \n",
    "    _,summary = sess.run([train_step,summary_op], feed_dict=train_data)\n",
    "    # Write logs at every iteration\n",
    "    train_summary_writer.add_summary(summary,i)\n",
    "    if i % 100 == 0:        \n",
    "        #success ?\n",
    "        ta,tc = sess.run([accuracy,loss],feed_dict=train_data)\n",
    "        test_data = {X: mnist.test.images, Y_: mnist.test.labels}\n",
    "        va,vc,summary_test = sess.run([accuracy,loss,summary_op],feed_dict=test_data)\n",
    "        test_summary_writer.add_summary(summary_test,i)\n",
    "        print(\"Step : %d Batch : acc = %.4f loss = %.4f | Test acc = %.4f loss = %.4f\" % (i,ta,tc,va,vc))   \n",
    "        \n",
    "    #--- edit\n",
    "#success on test data?\n",
    "test_data = {X: mnist.test.images, Y_: mnist.test.labels}\n",
    "a,c = sess.run([accuracy, loss], feed_dict=test_data)\n",
    "print(\"Test data acc = %.4f loss = %.4f\" % (a,c))"
   ]
  },
  {
   "cell_type": "code",
   "execution_count": 26,
   "metadata": {
    "collapsed": false
   },
   "outputs": [
    {
     "data": {
      "image/png": "[encoded data removed]",
      "text/plain": [
       "<matplotlib.figure.Figure at 0x1ee8118c2b0>"
      ]
     },
     "metadata": {},
     "output_type": "display_data"
    },
    {
     "data": {
      "image/png": "[encoded data removed]",
      "text/plain": [
       "<matplotlib.figure.Figure at 0x1ee80c1d780>"
      ]
     },
     "metadata": {},
     "output_type": "display_data"
    },
    {
     "data": {
      "image/png": "[encoded data removed]",
      "text/plain": [
       "<matplotlib.figure.Figure at 0x1ee80a526a0>"
      ]
     },
     "metadata": {},
     "output_type": "display_data"
    },
    {
     "data": {
      "image/png": "[encoded data removed]",
      "text/plain": [
       "<matplotlib.figure.Figure at 0x1ee80e97908>"
      ]
     },
     "metadata": {},
     "output_type": "display_data"
    },
    {
     "data": {
      "image/png": "[encoded data removed]",
      "text/plain": [
       "<matplotlib.figure.Figure at 0x1ee80c363c8>"
      ]
     },
     "metadata": {},
     "output_type": "display_data"
    },
    {
     "data": {
      "image/png": "[encoded data removed]",
      "text/plain": [
       "<matplotlib.figure.Figure at 0x1ee803900b8>"
      ]
     },
     "metadata": {},
     "output_type": "display_data"
    }
   ],
   "source": [
    "wts = conv1_weights.eval()\n",
    "#wts[:,:,0,0].shape\n",
    "for i in range(32):\n",
    "    plt.subplot(8,4, i+1)\n",
    "    plt.imshow(wts[:,:,0,i], interpolation=\"nearest\", cmap=\"gray\")\n",
    "plt.show()\n",
    "wts = conv2_weights.eval()\n",
    "wts[:,:,0,0].shape\n",
    "for i in range(5):\n",
    "    for j in range(5):\n",
    "        plt.subplot(1,10, j+1)\n",
    "        plt.imshow(wts[:,:,i,j], interpolation=\"nearest\", cmap=\"gray\")  \n",
    "    plt.show()"
   ]
  },
  {
   "cell_type": "code",
   "execution_count": null,
   "metadata": {
    "collapsed": true
   },
   "outputs": [],
   "source": []
  }
 ],
 "metadata": {
  "kernelspec": {
   "display_name": "Tensorflow 3",
   "language": "python",
   "name": "tensorflow"
  },
  "language_info": {
   "codemirror_mode": {
    "name": "ipython",
    "version": 3
   },
   "file_extension": ".py",
   "mimetype": "text/x-python",
   "name": "python",
   "nbconvert_exporter": "python",
   "pygments_lexer": "ipython3",
   "version": "3.5.3"
  }
 },
 "nbformat": 4,
 "nbformat_minor": 2
}
