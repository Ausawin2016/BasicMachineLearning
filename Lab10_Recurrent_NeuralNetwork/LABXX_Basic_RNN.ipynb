{
 "cells": [
  {
   "cell_type": "code",
   "execution_count": 5,
   "metadata": {
    "collapsed": false
   },
   "outputs": [
    {
     "name": "stdout",
     "output_type": "stream",
     "text": [
      "Extracting ../data\\train-images-idx3-ubyte.gz\n",
      "Extracting ../data\\train-labels-idx1-ubyte.gz\n",
      "Extracting ../data\\t10k-images-idx3-ubyte.gz\n",
      "Extracting ../data\\t10k-labels-idx1-ubyte.gz\n"
     ]
    }
   ],
   "source": [
    "import tensorflow as tf\n",
    "from tensorflow.contrib import rnn\n",
    "import numpy as np\n",
    "\n",
    "# Import MINST data\n",
    "from tensorflow.examples.tutorials.mnist import input_data\n",
    "mnist = input_data.read_data_sets(\"../data\", one_hot=True)"
   ]
  },
  {
   "cell_type": "code",
   "execution_count": 2,
   "metadata": {
    "collapsed": true
   },
   "outputs": [],
   "source": [
    "# Parameters\n",
    "learning_rate = 0.001\n",
    "training_iters = 100000\n",
    "batch_size = 128\n",
    "display_step = 10\n",
    "\n",
    "# Network Parameters\n",
    "n_input = 28 # MNIST data input (img shape: 28*28)\n",
    "n_steps = 28 # timesteps\n",
    "n_hidden = 128 # hidden layer num of features\n",
    "n_classes = 10 # MNIST total classes (0-9 digits)\n",
    "\n",
    "# tf Graph input\n",
    "x = tf.placeholder(\"float\", [None, n_steps, n_input])\n",
    "y = tf.placeholder(\"float\", [None, n_classes])\n",
    "\n",
    "# Define weights\n",
    "weights = {\n",
    "    'out': tf.Variable(tf.random_normal([n_hidden, n_classes]))\n",
    "}\n",
    "biases = {\n",
    "    'out': tf.Variable(tf.random_normal([n_classes]))\n",
    "}"
   ]
  },
  {
   "cell_type": "code",
   "execution_count": 3,
   "metadata": {
    "collapsed": false
   },
   "outputs": [],
   "source": [
    "def RNN(x, weights, biases):\n",
    "\n",
    "# configuration\n",
    "#                        O * W + b -> 10 labels for each image, O[? 28], W[28 10], B[10]\n",
    "#                       ^ (O: output 28 vec from 28 vec input)\n",
    "#                       |\n",
    "#      +-+  +-+       +--+\n",
    "#      |1|->|2|-> ... |28| time_step_size = 28\n",
    "#      +-+  +-+       +--+\n",
    "#       ^    ^    ...  ^\n",
    "#       |    |         |\n",
    "#     [28] [28]  ... [28]\n",
    "#     [28] [28]  ... [28]\n",
    "#     [28] [28]  ... [28]\n",
    "        \n",
    "    x = tf.unstack(x, n_steps, 1)\n",
    "    \n",
    "    cell = rnn.BasicRNNCell(n_hidden)\n",
    "    \n",
    "    outputs, states = rnn.static_rnn(cell, x, dtype=tf.float32)\n",
    "    # Linear activation, using rnn inner loop last output\n",
    "    return tf.matmul(outputs[-1], weights['out']) + biases['out']\n",
    "\n",
    "pred = RNN(x, weights, biases)\n",
    "\n",
    "# Define loss and optimizer\n",
    "cost = tf.reduce_mean(tf.nn.softmax_cross_entropy_with_logits(logits=pred, labels=y))\n",
    "optimizer = tf.train.AdamOptimizer(learning_rate=learning_rate).minimize(cost)\n",
    "\n",
    "# Evaluate model\n",
    "correct_pred = tf.equal(tf.argmax(pred,1), tf.argmax(y,1))\n",
    "accuracy = tf.reduce_mean(tf.cast(correct_pred, tf.float32))\n",
    "\n",
    "# Initializing the variables\n",
    "init = tf.global_variables_initializer()"
   ]
  },
  {
   "cell_type": "code",
   "execution_count": 4,
   "metadata": {
    "collapsed": false
   },
   "outputs": [
    {
     "name": "stdout",
     "output_type": "stream",
     "text": [
      "Iter 1280, Minibatch Loss= 2.018440, Training Accuracy= 0.28125\n",
      "Iter 2560, Minibatch Loss= 1.724001, Training Accuracy= 0.35156\n",
      "Iter 3840, Minibatch Loss= 1.426400, Training Accuracy= 0.50781\n",
      "Iter 5120, Minibatch Loss= 1.109406, Training Accuracy= 0.62500\n",
      "Iter 6400, Minibatch Loss= 0.859597, Training Accuracy= 0.71875\n",
      "Iter 7680, Minibatch Loss= 1.155417, Training Accuracy= 0.57812\n",
      "Iter 8960, Minibatch Loss= 0.807782, Training Accuracy= 0.76562\n",
      "Iter 10240, Minibatch Loss= 0.681562, Training Accuracy= 0.78125\n",
      "Iter 11520, Minibatch Loss= 0.434009, Training Accuracy= 0.84375\n",
      "Iter 12800, Minibatch Loss= 0.759220, Training Accuracy= 0.76562\n",
      "Iter 14080, Minibatch Loss= 0.554060, Training Accuracy= 0.85938\n",
      "Iter 15360, Minibatch Loss= 0.350382, Training Accuracy= 0.87500\n",
      "Iter 16640, Minibatch Loss= 0.435002, Training Accuracy= 0.89844\n",
      "Iter 17920, Minibatch Loss= 0.275802, Training Accuracy= 0.92188\n",
      "Iter 19200, Minibatch Loss= 0.300505, Training Accuracy= 0.89062\n",
      "Iter 20480, Minibatch Loss= 0.198208, Training Accuracy= 0.92188\n",
      "Iter 21760, Minibatch Loss= 0.444818, Training Accuracy= 0.83594\n",
      "Iter 23040, Minibatch Loss= 0.161764, Training Accuracy= 0.96094\n",
      "Iter 24320, Minibatch Loss= 0.367215, Training Accuracy= 0.83594\n",
      "Iter 25600, Minibatch Loss= 0.388027, Training Accuracy= 0.87500\n",
      "Iter 26880, Minibatch Loss= 0.242736, Training Accuracy= 0.91406\n",
      "Iter 28160, Minibatch Loss= 0.239943, Training Accuracy= 0.92188\n",
      "Iter 29440, Minibatch Loss= 0.278329, Training Accuracy= 0.92969\n",
      "Iter 30720, Minibatch Loss= 0.284431, Training Accuracy= 0.89844\n",
      "Iter 32000, Minibatch Loss= 0.197911, Training Accuracy= 0.93750\n",
      "Iter 33280, Minibatch Loss= 0.255737, Training Accuracy= 0.91406\n",
      "Iter 34560, Minibatch Loss= 0.221531, Training Accuracy= 0.92969\n",
      "Iter 35840, Minibatch Loss= 0.195205, Training Accuracy= 0.92969\n",
      "Iter 37120, Minibatch Loss= 0.342426, Training Accuracy= 0.89844\n",
      "Iter 38400, Minibatch Loss= 0.112141, Training Accuracy= 0.97656\n",
      "Iter 39680, Minibatch Loss= 0.142680, Training Accuracy= 0.95312\n",
      "Iter 40960, Minibatch Loss= 0.368973, Training Accuracy= 0.85938\n",
      "Iter 42240, Minibatch Loss= 0.113069, Training Accuracy= 0.97656\n",
      "Iter 43520, Minibatch Loss= 0.134389, Training Accuracy= 0.96094\n",
      "Iter 44800, Minibatch Loss= 0.156187, Training Accuracy= 0.95312\n",
      "Iter 46080, Minibatch Loss= 0.112163, Training Accuracy= 0.96094\n",
      "Iter 47360, Minibatch Loss= 0.263477, Training Accuracy= 0.90625\n",
      "Iter 48640, Minibatch Loss= 0.274484, Training Accuracy= 0.89844\n",
      "Iter 49920, Minibatch Loss= 0.258205, Training Accuracy= 0.90625\n",
      "Iter 51200, Minibatch Loss= 0.132311, Training Accuracy= 0.95312\n",
      "Iter 52480, Minibatch Loss= 0.193309, Training Accuracy= 0.94531\n",
      "Iter 53760, Minibatch Loss= 0.056192, Training Accuracy= 0.98438\n",
      "Iter 55040, Minibatch Loss= 0.123685, Training Accuracy= 0.94531\n",
      "Iter 56320, Minibatch Loss= 0.202632, Training Accuracy= 0.94531\n",
      "Iter 57600, Minibatch Loss= 0.165385, Training Accuracy= 0.96875\n",
      "Iter 58880, Minibatch Loss= 0.174151, Training Accuracy= 0.93750\n",
      "Iter 60160, Minibatch Loss= 0.240011, Training Accuracy= 0.89062\n",
      "Iter 61440, Minibatch Loss= 0.257696, Training Accuracy= 0.89844\n",
      "Iter 62720, Minibatch Loss= 0.287447, Training Accuracy= 0.92969\n",
      "Iter 64000, Minibatch Loss= 0.175233, Training Accuracy= 0.93750\n",
      "Iter 65280, Minibatch Loss= 0.078478, Training Accuracy= 0.97656\n",
      "Iter 66560, Minibatch Loss= 0.087357, Training Accuracy= 0.96875\n",
      "Iter 67840, Minibatch Loss= 0.136066, Training Accuracy= 0.95312\n",
      "Iter 69120, Minibatch Loss= 0.076882, Training Accuracy= 0.97656\n",
      "Iter 70400, Minibatch Loss= 0.147048, Training Accuracy= 0.94531\n",
      "Iter 71680, Minibatch Loss= 0.113056, Training Accuracy= 0.96094\n",
      "Iter 72960, Minibatch Loss= 0.092824, Training Accuracy= 0.98438\n",
      "Iter 74240, Minibatch Loss= 0.108782, Training Accuracy= 0.97656\n",
      "Iter 75520, Minibatch Loss= 0.123648, Training Accuracy= 0.96875\n",
      "Iter 76800, Minibatch Loss= 0.140416, Training Accuracy= 0.94531\n",
      "Iter 78080, Minibatch Loss= 0.094538, Training Accuracy= 0.96875\n",
      "Iter 79360, Minibatch Loss= 0.063751, Training Accuracy= 0.97656\n",
      "Iter 80640, Minibatch Loss= 0.159711, Training Accuracy= 0.96875\n",
      "Iter 81920, Minibatch Loss= 0.080421, Training Accuracy= 0.97656\n",
      "Iter 83200, Minibatch Loss= 0.071442, Training Accuracy= 0.97656\n",
      "Iter 84480, Minibatch Loss= 0.067796, Training Accuracy= 0.96875\n",
      "Iter 85760, Minibatch Loss= 0.073391, Training Accuracy= 0.97656\n",
      "Iter 87040, Minibatch Loss= 0.188386, Training Accuracy= 0.94531\n",
      "Iter 88320, Minibatch Loss= 0.194683, Training Accuracy= 0.92969\n",
      "Iter 89600, Minibatch Loss= 0.253914, Training Accuracy= 0.92188\n",
      "Iter 90880, Minibatch Loss= 0.178000, Training Accuracy= 0.93750\n",
      "Iter 92160, Minibatch Loss= 0.100396, Training Accuracy= 0.96094\n",
      "Iter 93440, Minibatch Loss= 0.081216, Training Accuracy= 0.96875\n",
      "Iter 94720, Minibatch Loss= 0.100157, Training Accuracy= 0.96094\n",
      "Iter 96000, Minibatch Loss= 0.094466, Training Accuracy= 0.94531\n",
      "Iter 97280, Minibatch Loss= 0.090565, Training Accuracy= 0.98438\n",
      "Iter 98560, Minibatch Loss= 0.096530, Training Accuracy= 0.96875\n",
      "Iter 99840, Minibatch Loss= 0.101170, Training Accuracy= 0.97656\n",
      "Optimization Finished!\n",
      "Testing Accuracy: 0.9613\n"
     ]
    }
   ],
   "source": [
    "# Launch the graph\n",
    "with tf.Session() as sess:\n",
    "    sess.run(init)\n",
    "    step = 1\n",
    "    # Keep training until reach max iterations\n",
    "    while step * batch_size < training_iters:\n",
    "        batch_x, batch_y = mnist.train.next_batch(batch_size)\n",
    "        # Reshape data to get 28 seq of 28 elements\n",
    "        batch_x = batch_x.reshape((batch_size, n_steps, n_input))\n",
    "        # Run optimization op (backprop)\n",
    "        sess.run(optimizer, feed_dict={x: batch_x, y: batch_y})\n",
    "        if step % display_step == 0:\n",
    "            # Calculate batch accuracy\n",
    "            acc = sess.run(accuracy, feed_dict={x: batch_x, y: batch_y})\n",
    "            # Calculate batch loss\n",
    "            loss = sess.run(cost, feed_dict={x: batch_x, y: batch_y})\n",
    "            print(\"Iter \" + str(step*batch_size) + \", Minibatch Loss= \" + \\\n",
    "                  \"{:.6f}\".format(loss) + \", Training Accuracy= \" + \\\n",
    "                  \"{:.5f}\".format(acc))\n",
    "        step += 1\n",
    "    print(\"Optimization Finished!\")\n",
    "    \n",
    "    test_data = mnist.test.images.reshape((-1, n_steps, n_input))\n",
    "    test_label = mnist.test.labels\n",
    "    print(\"Testing Accuracy:\", \\\n",
    "        sess.run(accuracy, feed_dict={x: test_data, y: test_label}))"
   ]
  },
  {
   "cell_type": "code",
   "execution_count": null,
   "metadata": {
    "collapsed": true
   },
   "outputs": [],
   "source": []
  }
 ],
 "metadata": {
  "kernelspec": {
   "display_name": "Tensorflow 3",
   "language": "python",
   "name": "tensorflow"
  },
  "language_info": {
   "codemirror_mode": {
    "name": "ipython",
    "version": 3
   },
   "file_extension": ".py",
   "mimetype": "text/x-python",
   "name": "python",
   "nbconvert_exporter": "python",
   "pygments_lexer": "ipython3",
   "version": "3.5.3"
  }
 },
 "nbformat": 4,
 "nbformat_minor": 2
}
