{
 "cells": [
  {
   "cell_type": "markdown",
   "metadata": {},
   "source": [
    "<h1>#Lab 1 Understand Tensor and Flow by Comdet Phaudphut</h1>"
   ]
  },
  {
   "cell_type": "code",
   "execution_count": 1,
   "metadata": {
    "collapsed": true
   },
   "outputs": [],
   "source": [
    "from __future__ import absolute_import\n",
    "from __future__ import division\n",
    "from __future__ import print_function\n",
    "import tensorflow as tf\n",
    "import numpy as np\n",
    "import os\n",
    "import time"
   ]
  },
  {
   "cell_type": "markdown",
   "metadata": {},
   "source": [
    "<h4>Tensorflow constant</h4>\n",
    "ใช้สำหรับประกาศ Tensor แบบเป็นค่าคงที่ เปลี่ยนแปลงค่าไม่ได้ในระหว่างรัน<br>\n",
    "ตัวอย่าง x มีค่า = 5<br>\n",
    "y มีค่า = 6<br>\n",
    "result ผลลัพท์เป็น tensor เหมือนกัน"
   ]
  },
  {
   "cell_type": "code",
   "execution_count": 2,
   "metadata": {
    "collapsed": false
   },
   "outputs": [
    {
     "name": "stdout",
     "output_type": "stream",
     "text": [
      "Tensor(\"mul:0\", shape=(), dtype=int32)\n",
      "Tensor(\"Const:0\", shape=(), dtype=int32)\n"
     ]
    }
   ],
   "source": [
    "x = tf.constant(5)\n",
    "y = tf.constant(6)\n",
    "result = x*y\n",
    "print(result)\n",
    "print(x)"
   ]
  },
  {
   "cell_type": "markdown",
   "metadata": {},
   "source": [
    "<h4>Tensorflow variable</h4>\n",
    "ใช้สำหรับประกาศตัวแปร เปลี่ยนแปลงค่าได้ระหว่างการรัน เช่นอาจทำการเก็บค่าจากการคำนวณต่างๆ<br>\n",
    "ในการสร้างนั้นอาจจะต้องมีการ Init ค่าให้ด้วย<br>\n",
    "ถ้ามีการใช้ตัวแปรจะต้องมี Initailize ให้ตัวแปรก่อนการใช้งาน<br>\n",
    "init_op = tf.global_variables_initializer()<br>\n",
    "tf.global_variables_initializer().run()<br>"
   ]
  },
  {
   "cell_type": "code",
   "execution_count": 3,
   "metadata": {
    "collapsed": false
   },
   "outputs": [
    {
     "name": "stdout",
     "output_type": "stream",
     "text": [
      "Tensor(\"weights/read:0\", shape=(2, 6), dtype=float32)\n",
      "Tensor(\"biases/read:0\", shape=(6,), dtype=float32)\n"
     ]
    }
   ],
   "source": [
    "#w = tf.Variable(<initial-value>, name=<optional-name>)\n",
    "weights = tf.Variable(tf.random_normal([2, 6]), name=\"weights\")\n",
    "biases = tf.Variable(tf.zeros([6]), name=\"biases\")\n",
    "print(weights)\n",
    "print(biases)"
   ]
  },
  {
   "cell_type": "markdown",
   "metadata": {},
   "source": [
    "<h4>Tensorflow PlaceHolder</h4><br>\n",
    "placeholder ใช้ในกรณีที่ต้องการ feed ค่าจากข้อมููลจากภายนอกไปเก็บไว้ใน tensor<br>\n",
    "มักร่วมกันกับ feed_dict เพื่อเชื่อมโยงข้อมููล"
   ]
  },
  {
   "cell_type": "code",
   "execution_count": 4,
   "metadata": {
    "collapsed": false
   },
   "outputs": [
    {
     "name": "stdout",
     "output_type": "stream",
     "text": [
      "Tensor(\"Placeholder:0\", shape=(5, 5), dtype=float32)\n",
      "Tensor(\"Placeholder_1:0\", shape=(?, 5), dtype=float32)\n",
      "Tensor(\"MatMul:0\", shape=(5, 5), dtype=float32)\n"
     ]
    }
   ],
   "source": [
    "inp = tf.placeholder(tf.float32,[5,5])\n",
    "data = tf.placeholder(tf.float32,[None,5])\n",
    "outp = tf.matmul(inp,data)\n",
    "print(inp)\n",
    "print(data)\n",
    "print(outp)"
   ]
  },
  {
   "cell_type": "markdown",
   "metadata": {},
   "source": [
    "<h4> Everything running thorght session</h4>\n",
    "หลักการทำงานของ Tensorflow นั้นจะไม่ทำงานทันทีที่รันโค้ด แต่จะมีการสร้างโครงกราฟคำนวณขึึ้นมา เรียกว่า Computation Graph<br>\n",
    "และการรันกราฟนั้นจะต้องทำผ่าน Session"
   ]
  },
  {
   "cell_type": "code",
   "execution_count": 5,
   "metadata": {
    "collapsed": false
   },
   "outputs": [
    {
     "name": "stdout",
     "output_type": "stream",
     "text": [
      "30\n"
     ]
    }
   ],
   "source": [
    "sess = tf.Session()\n",
    "res = sess.run(result)\n",
    "print(res)\n",
    "sess.close()"
   ]
  },
  {
   "cell_type": "code",
   "execution_count": 6,
   "metadata": {
    "collapsed": false
   },
   "outputs": [
    {
     "name": "stdout",
     "output_type": "stream",
     "text": [
      "30\n"
     ]
    }
   ],
   "source": [
    "with tf.Session() as sess:\n",
    "    output = sess.run(x*y)\n",
    "    print(output)"
   ]
  },
  {
   "cell_type": "code",
   "execution_count": 7,
   "metadata": {
    "collapsed": false
   },
   "outputs": [
    {
     "name": "stdout",
     "output_type": "stream",
     "text": [
      "#############\n",
      "30\n",
      "#############\n",
      "[[-1.06843245  0.70515025 -0.99292415  0.13744356  0.20356697  0.70010537]\n",
      " [-1.14673483  1.0408721  -2.02005363  1.05647695 -0.2939561  -1.72112107]]\n",
      "#############\n",
      "[[ 3.53231573  1.71381831  2.75894833  2.79766798  1.06851387]\n",
      " [ 3.53231573  1.71381831  2.75894833  2.79766798  1.06851387]\n",
      " [ 3.53231573  1.71381831  2.75894833  2.79766798  1.06851387]\n",
      " [ 3.53231573  1.71381831  2.75894833  2.79766798  1.06851387]\n",
      " [ 3.53231573  1.71381831  2.75894833  2.79766798  1.06851387]]\n"
     ]
    }
   ],
   "source": [
    "sess = tf.InteractiveSession()\n",
    "tf.global_variables_initializer().run()\n",
    "print(\"#############\")\n",
    "print(result.eval())\n",
    "print(\"#############\")\n",
    "print(weights.eval())\n",
    "print(\"#############\")\n",
    "########### feed dict use for feed data to placeholder ############\n",
    "data_inp = np.ones([5,5])\n",
    "data_res = np.random.random([5,5])\n",
    "print(outp.eval(feed_dict={inp: data_inp, data: data_res}))"
   ]
  },
  {
   "cell_type": "markdown",
   "metadata": {},
   "source": [
    "<h4>load and save variable</h4>\n",
    "ในการทำงานอาจจะต้องมีการ save/load ค่าทีได้จากการคำนวณไว้ใช้งาน หรือป้องกันการเกิดกรณีที่ไม่คาดคิดเช่นไฟดับขณะรันโปรแกรม<br>\n",
    "ทุกครั้งที่ทำการสร้าง sess และ Init variable ขึ้นมาใหม่ค่าเดิมจะถููกล้างทั้งหมด"
   ]
  },
  {
   "cell_type": "code",
   "execution_count": null,
   "metadata": {
    "collapsed": false
   },
   "outputs": [],
   "source": [
    "print(\"===========\")\n",
    "print(weights.eval())\n",
    "print(\"===========\")\n",
    "if not os.path.isdir('checkpoint'):\n",
    "    os.mkdir('checkpoint')\n",
    "    \n",
    "######## ทำการสร้างตัว Save/Load ########\n",
    "saver = tf.train.Saver()\n",
    "#saving model \n",
    "saver.save(sess, 'checkpoint/model', global_step=1)\n",
    "sess.close()\n",
    "####### re-init variable\n",
    "sess = tf.InteractiveSession()\n",
    "tf.global_variables_initializer().run()\n",
    "print(\"===========\")\n",
    "print(weights.eval())\n",
    "print(\"===========\")\n",
    "########## loading model\n",
    "checkpoint = tf.train.get_checkpoint_state('checkpoint/')\n",
    "if checkpoint and checkpoint.model_checkpoint_path:\n",
    "    saver.restore(sess, checkpoint.model_checkpoint_path)\n",
    "    print ('Successfully loaded:', checkpoint.model_checkpoint_path)\n",
    "print(\"===========\")\n",
    "print(weights.eval())\n",
    "print(\"===========\")"
   ]
  },
  {
   "cell_type": "markdown",
   "metadata": {
    "collapsed": true
   },
   "source": [
    "<h4> Writing Graph Log</h4>\n",
    "เราสามารถใช้ตัว summary เป็นตัวเก็บสถานะของการคำนวณเพื่อนำไปแสดงผลให้อยู่ในรูปแบบที่เข้าใจได้ง่าย<br>"
   ]
  },
  {
   "cell_type": "code",
   "execution_count": 8,
   "metadata": {
    "collapsed": false
   },
   "outputs": [
    {
     "name": "stdout",
     "output_type": "stream",
     "text": [
      "63\n"
     ]
    }
   ],
   "source": [
    "#ทำการ restart kernel ก่อน เดี๋ยวจะตีกันกับกราฟด้านบน\n",
    "import tensorflow as tf\n",
    "import os\n",
    "\n",
    "if not os.path.isdir('logs'):\n",
    "    os.mkdir('logs')\n",
    "a = tf.add(1, 2)\n",
    "b = tf.multiply(a, 3)\n",
    "c = tf.add(4, 5,)\n",
    "d = tf.multiply(c, 6,)\n",
    "e = tf.multiply(4, 5,)\n",
    "f = tf.div(c, 6,)\n",
    "g = tf.add(b, d)\n",
    "h = tf.multiply(g, f)\n",
    "init = tf.global_variables_initializer()\n",
    "with tf.Session() as sess:\n",
    "    sess.run(init)\n",
    "    writer = tf.summary.FileWriter(\"logs\", sess.graph) #graph=tf.get_default_graph()        \n",
    "    print(sess.run(h))\n",
    "    writer.close()"
   ]
  },
  {
   "cell_type": "markdown",
   "metadata": {},
   "source": [
    "<h4>การใช้งาน Tensorboard</h4>\n",
    "<hr/>\n",
    "<img src=\"images/pic1.jpg\"/>\n",
    "<hr/>\n",
    "<img src=\"images/pic3.jpg\"/>\n",
    "<hr/>\n",
    "<img src=\"images/pic4.jpg\"/>\n",
    "<hr/>\n",
    "<img src=\"images/pic4.bmp\"/>"
   ]
  },
  {
   "cell_type": "code",
   "execution_count": null,
   "metadata": {
    "collapsed": false
   },
   "outputs": [],
   "source": [
    "#ทำการ restart kernel ก่อน เดี๋ยวจะตีกันกับกราฟด้านบน\n",
    "import tensorflow as tf\n",
    "import os\n",
    "if not os.path.isdir('logs_scope'):\n",
    "    os.mkdir('logs_scope')\n",
    "with tf.name_scope(\"OperationGroup_1\"):\n",
    "    with tf.name_scope(\"Scope1\"):\n",
    "        a = tf.add(1, 2, name=\"A_add\")\n",
    "        b = tf.multiply(a, 3, name=\"B_multiply\")\n",
    "    with tf.name_scope(\"Scope2\"):\n",
    "        c = tf.add(4, 5, name=\"C_add\")\n",
    "        d = tf.multiply(c, 6, name=\"D_multiply\")\n",
    "\n",
    "with tf.name_scope(\"Scope_3\"):\n",
    "    e = tf.multiply(4, 5, name=\"E_add\")\n",
    "    f = tf.div(c, 6, name=\"f_div\")\n",
    "g = tf.add(b, d,name=\"g_add\")\n",
    "h = tf.multiply(g, f)\n",
    "init = tf.global_variables_initializer()\n",
    "with tf.Session() as sess:\n",
    "    sess.run(init)\n",
    "    writer = tf.summary.FileWriter(\"logs_scope\", sess.graph) #graph=tf.get_default_graph()        \n",
    "    print(sess.run(h))\n",
    "    writer.close()"
   ]
  },
  {
   "cell_type": "markdown",
   "metadata": {},
   "source": [
    "<hr/>\n",
    "<img src=\"images/pic5.jpg\"/>"
   ]
  },
  {
   "cell_type": "code",
   "execution_count": null,
   "metadata": {
    "collapsed": true
   },
   "outputs": [],
   "source": []
  }
 ],
 "metadata": {
  "kernelspec": {
   "display_name": "Tensorflow 3",
   "language": "python",
   "name": "tensorflow"
  },
  "language_info": {
   "codemirror_mode": {
    "name": "ipython",
    "version": 3
   },
   "file_extension": ".py",
   "mimetype": "text/x-python",
   "name": "python",
   "nbconvert_exporter": "python",
   "pygments_lexer": "ipython3",
   "version": "3.5.3"
  }
 },
 "nbformat": 4,
 "nbformat_minor": 2
}
